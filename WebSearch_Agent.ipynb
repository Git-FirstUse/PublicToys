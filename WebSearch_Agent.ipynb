{
  "nbformat": 4,
  "nbformat_minor": 0,
  "metadata": {
    "colab": {
      "provenance": [],
      "authorship_tag": "ABX9TyOJL2gFCODtME96aO4cmeO7"
    },
    "kernelspec": {
      "name": "python3",
      "display_name": "Python 3"
    },
    "language_info": {
      "name": "python"
    }
  },
  "cells": [
    {
      "cell_type": "markdown",
      "source": [
        "# User Input"
      ],
      "metadata": {
        "id": "qxtWniFwXXH0"
      }
    },
    {
      "cell_type": "code",
      "source": [
        "#Input your personal OpenAI API Key\n",
        "OpenAIKey = \"\" #You can make an OpenAI API Key from the OpenAI link - https://platform.openai.com/account/api-keys\n",
        "\n",
        "#Input your SerpAPI Private Key\n",
        "SerpAPI_key= \"\" #You can make a Serp API Private Key from the link - https://serpapi.com/\n",
        "\n",
        "#Ask your question!\n",
        "query = \"\" #Try a question like \"What is the NASDAQ today? how many points did it change in the last 7 days?\""
      ],
      "metadata": {
        "id": "7ogn7QLJXMAI"
      },
      "execution_count": null,
      "outputs": []
    },
    {
      "cell_type": "markdown",
      "source": [
        "# Packages"
      ],
      "metadata": {
        "id": "bq0Tp-GrXi4U"
      }
    },
    {
      "cell_type": "code",
      "source": [
        "!pip install -Uqqq pip --progress-bar off\n",
        "!pip install -qqq langchain --progress-bar off\n",
        "!pip install -qqq openai==0.27.4 --progress-bar off\n",
        "!pip install -qqq google-search-results --progress-bar off"
      ],
      "metadata": {
        "id": "Ofa8Lb7kkz25"
      },
      "execution_count": 1,
      "outputs": []
    },
    {
      "cell_type": "code",
      "source": [
        "import langchain\n",
        "import os\n",
        "import openai"
      ],
      "metadata": {
        "id": "cHcuIZEAXHwS"
      },
      "execution_count": null,
      "outputs": []
    },
    {
      "cell_type": "code",
      "source": [
        "from langchain.agents import load_tools\n",
        "from langchain.agents import initialize_agent\n",
        "from langchain.agents import AgentType\n",
        "from langchain.llms import OpenAI"
      ],
      "metadata": {
        "id": "VWVeDTfGXIj2"
      },
      "execution_count": null,
      "outputs": []
    },
    {
      "cell_type": "markdown",
      "source": [
        "# BackEnd (Run once for each new query)"
      ],
      "metadata": {
        "id": "UIF3S5vGXk53"
      }
    },
    {
      "cell_type": "code",
      "source": [
        "os.environ[\"OPENAI_API_KEY\"] = OpenAI_key\n",
        "os.environ[\"SERPAPI_API_KEY\"]= SerpAPI_key\n",
        "llm = OpenAI(temperature=0)"
      ],
      "metadata": {
        "id": "Uh_UPQ6HV898"
      },
      "execution_count": null,
      "outputs": []
    },
    {
      "cell_type": "code",
      "source": [
        "tools = load_tools([\"serpapi\", \"llm-math\"], llm=llm)\n",
        "agent = initialize_agent(tools, llm, agent=AgentType.ZERO_SHOT_REACT_DESCRIPTION, verbose=False)\n",
        "agent.run(query)"
      ],
      "metadata": {
        "id": "Iofg5rX5wGhJ"
      },
      "execution_count": null,
      "outputs": []
    }
  ]
}