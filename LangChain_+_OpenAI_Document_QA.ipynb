{
  "nbformat": 4,
  "nbformat_minor": 0,
  "metadata": {
    "colab": {
      "provenance": [],
      "authorship_tag": "ABX9TyOet6G6zCpy6R+1hSp+C/5J"
    },
    "kernelspec": {
      "name": "python3",
      "display_name": "Python 3"
    },
    "language_info": {
      "name": "python"
    }
  },
  "cells": [
    {
      "cell_type": "markdown",
      "source": [
        "# User Inputs"
      ],
      "metadata": {
        "id": "7SUHWoH7uhZS"
      }
    },
    {
      "cell_type": "code",
      "source": [
        "#Input your personal OpenAI API Key\n",
        "OpenAIKey = \"\" #You can make an OpenAI API Key from the OpenAI link - https://platform.openai.com/account/api-keys\n",
        "\n",
        "#Input the document URL\n",
        "documentURL = \"\" #An example of an URL would be this article from the website PRWeb.com - https://www.prweb.com/releases/new_program_bolsters_healthcare_startup_ecosystem_in_orange_county_and_southern_california/prweb19181930.htm\n",
        "\n",
        "#Ask your question!\n",
        "questionAboutDocument = \"\" #An example of a question to ask would be like the following - \"Explain the linked page.\""
      ],
      "metadata": {
        "id": "F-V96ekuxGHX"
      },
      "execution_count": 109,
      "outputs": []
    },
    {
      "cell_type": "markdown",
      "source": [
        "# Packages ( Run once at the beginning )"
      ],
      "metadata": {
        "id": "r_KYC5bU8xaB"
      }
    },
    {
      "cell_type": "code",
      "execution_count": 110,
      "metadata": {
        "id": "e07is1-VtFuj"
      },
      "outputs": [],
      "source": [
        "!pip install -Uqqq pip --progress-bar off\n",
        "!pip install -qqq langchain --progress-bar off\n",
        "!pip install -qqq openai==0.27.4 --progress-bar off\n",
        "!pip install -Uqqq chromadb --progress-bar off"
      ]
    },
    {
      "cell_type": "code",
      "source": [
        "import os\n",
        "import chromadb\n",
        "import langchain\n",
        "import openai\n",
        "from langchain.chains import RetrievalQA\n",
        "from langchain.chat_models import ChatOpenAI\n",
        "from langchain.document_loaders import WebBaseLoader\n",
        "from langchain.embeddings import OpenAIEmbeddings\n",
        "from langchain.indexes import VectorstoreIndexCreator\n",
        "from langchain.llms import OpenAI\n",
        "from langchain.vectorstores import Chroma"
      ],
      "metadata": {
        "id": "B-Mmqm9Ot2qQ"
      },
      "execution_count": 111,
      "outputs": []
    },
    {
      "cell_type": "code",
      "source": [
        "os.environ[\"OPENAI_API_KEY\"] = OpenAIKey"
      ],
      "metadata": {
        "id": "B6L2SLn_t3L1"
      },
      "execution_count": 112,
      "outputs": []
    },
    {
      "cell_type": "markdown",
      "source": [
        "# Document Loader (Run once for each new document)"
      ],
      "metadata": {
        "id": "f3WE0E_O9kiE"
      }
    },
    {
      "cell_type": "code",
      "source": [
        "loader = WebBaseLoader(documentURL)\n",
        "documents = loader.load()\n",
        "document = documents[0]\n",
        "index = VectorstoreIndexCreator().from_loaders([loader])\n",
        "embeddings = OpenAIEmbeddings()\n",
        "db = Chroma.from_documents(documents, embeddings)\n",
        "chain = RetrievalQA.from_chain_type(\n",
        "    llm=ChatOpenAI(temperature=0),\n",
        "    chain_type=\"stuff\",\n",
        "    retriever=db.as_retriever(search_kwargs={\"k\": 1}),\n",
        ")"
      ],
      "metadata": {
        "id": "kjUAuUQtt6xW"
      },
      "execution_count": null,
      "outputs": []
    },
    {
      "cell_type": "markdown",
      "source": [
        "# Run this block for each new question"
      ],
      "metadata": {
        "id": "LwxCn5OQ89qF"
      }
    },
    {
      "cell_type": "code",
      "source": [
        "response = chain.run(query)\n",
        "print_response(response)"
      ],
      "metadata": {
        "id": "btezC51c8-bj"
      },
      "execution_count": null,
      "outputs": []
    }
  ]
}